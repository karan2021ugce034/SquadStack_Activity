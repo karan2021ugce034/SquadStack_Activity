{
 "cells": [
  {
   "cell_type": "code",
   "execution_count": 142,
   "metadata": {},
   "outputs": [],
   "source": [
    "import pandas as pd\n",
    "import numpy as np"
   ]
  },
  {
   "cell_type": "code",
   "execution_count": 143,
   "metadata": {},
   "outputs": [],
   "source": [
    "data = pd.read_excel('Training Data Dump.xlsx')"
   ]
  },
  {
   "cell_type": "code",
   "execution_count": 144,
   "metadata": {},
   "outputs": [
    {
     "data": {
      "text/html": [
       "<div>\n",
       "<style scoped>\n",
       "    .dataframe tbody tr th:only-of-type {\n",
       "        vertical-align: middle;\n",
       "    }\n",
       "\n",
       "    .dataframe tbody tr th {\n",
       "        vertical-align: top;\n",
       "    }\n",
       "\n",
       "    .dataframe thead th {\n",
       "        text-align: right;\n",
       "    }\n",
       "</style>\n",
       "<table border=\"1\" class=\"dataframe\">\n",
       "  <thead>\n",
       "    <tr style=\"text-align: right;\">\n",
       "      <th></th>\n",
       "      <th>Lead_ID</th>\n",
       "      <th>F2</th>\n",
       "      <th>F3</th>\n",
       "      <th>F4</th>\n",
       "      <th>F5</th>\n",
       "      <th>F7</th>\n",
       "      <th>F8</th>\n",
       "      <th>F9</th>\n",
       "      <th>F10</th>\n",
       "      <th>F11</th>\n",
       "      <th>...</th>\n",
       "      <th>F108</th>\n",
       "      <th>F109</th>\n",
       "      <th>F110</th>\n",
       "      <th>F111</th>\n",
       "      <th>F112</th>\n",
       "      <th>F113</th>\n",
       "      <th>F114</th>\n",
       "      <th>F115</th>\n",
       "      <th>F117</th>\n",
       "      <th>Label</th>\n",
       "    </tr>\n",
       "  </thead>\n",
       "  <tbody>\n",
       "    <tr>\n",
       "      <th>0</th>\n",
       "      <td>197056838</td>\n",
       "      <td>NaT</td>\n",
       "      <td>2024-09-22 08:05:00</td>\n",
       "      <td>NaN</td>\n",
       "      <td>1.0</td>\n",
       "      <td>25517.0</td>\n",
       "      <td>1</td>\n",
       "      <td>1</td>\n",
       "      <td>0</td>\n",
       "      <td>0</td>\n",
       "      <td>...</td>\n",
       "      <td>NaN</td>\n",
       "      <td>NaN</td>\n",
       "      <td>NaN</td>\n",
       "      <td>NaN</td>\n",
       "      <td>NaN</td>\n",
       "      <td>NaN</td>\n",
       "      <td>12261</td>\n",
       "      <td>NaN</td>\n",
       "      <td>0</td>\n",
       "      <td>0</td>\n",
       "    </tr>\n",
       "    <tr>\n",
       "      <th>1</th>\n",
       "      <td>197056839</td>\n",
       "      <td>NaT</td>\n",
       "      <td>2024-09-22 08:05:00</td>\n",
       "      <td>NaN</td>\n",
       "      <td>2.0</td>\n",
       "      <td>25517.0</td>\n",
       "      <td>1</td>\n",
       "      <td>2</td>\n",
       "      <td>1</td>\n",
       "      <td>0</td>\n",
       "      <td>...</td>\n",
       "      <td>NaN</td>\n",
       "      <td>NaN</td>\n",
       "      <td>NaN</td>\n",
       "      <td>NaN</td>\n",
       "      <td>NaN</td>\n",
       "      <td>NaN</td>\n",
       "      <td>11852</td>\n",
       "      <td>NaN</td>\n",
       "      <td>0</td>\n",
       "      <td>0</td>\n",
       "    </tr>\n",
       "    <tr>\n",
       "      <th>2</th>\n",
       "      <td>197057485</td>\n",
       "      <td>NaT</td>\n",
       "      <td>2024-09-22 08:13:00</td>\n",
       "      <td>NaN</td>\n",
       "      <td>3.0</td>\n",
       "      <td>25511.0</td>\n",
       "      <td>1</td>\n",
       "      <td>2</td>\n",
       "      <td>2</td>\n",
       "      <td>0</td>\n",
       "      <td>...</td>\n",
       "      <td>NaN</td>\n",
       "      <td>NaN</td>\n",
       "      <td>NaN</td>\n",
       "      <td>NaN</td>\n",
       "      <td>NaN</td>\n",
       "      <td>NaN</td>\n",
       "      <td>16942</td>\n",
       "      <td>NaN</td>\n",
       "      <td>0</td>\n",
       "      <td>0</td>\n",
       "    </tr>\n",
       "  </tbody>\n",
       "</table>\n",
       "<p>3 rows × 115 columns</p>\n",
       "</div>"
      ],
      "text/plain": [
       "     Lead_ID  F2                  F3  F4   F5       F7  F8  F9  F10  F11  ...  \\\n",
       "0  197056838 NaT 2024-09-22 08:05:00 NaN  1.0  25517.0   1   1    0    0  ...   \n",
       "1  197056839 NaT 2024-09-22 08:05:00 NaN  2.0  25517.0   1   2    1    0  ...   \n",
       "2  197057485 NaT 2024-09-22 08:13:00 NaN  3.0  25511.0   1   2    2    0  ...   \n",
       "\n",
       "   F108  F109  F110  F111  F112  F113   F114  F115  F117  Label  \n",
       "0   NaN   NaN   NaN   NaN   NaN   NaN  12261   NaN     0      0  \n",
       "1   NaN   NaN   NaN   NaN   NaN   NaN  11852   NaN     0      0  \n",
       "2   NaN   NaN   NaN   NaN   NaN   NaN  16942   NaN     0      0  \n",
       "\n",
       "[3 rows x 115 columns]"
      ]
     },
     "execution_count": 144,
     "metadata": {},
     "output_type": "execute_result"
    }
   ],
   "source": [
    "data.head(3)"
   ]
  },
  {
   "cell_type": "code",
   "execution_count": 145,
   "metadata": {},
   "outputs": [
    {
     "name": "stdout",
     "output_type": "stream",
     "text": [
      "<class 'pandas.core.frame.DataFrame'>\n",
      "RangeIndex: 10000 entries, 0 to 9999\n",
      "Columns: 115 entries, Lead_ID to Label\n",
      "dtypes: datetime64[ns](2), float64(74), int64(39)\n",
      "memory usage: 8.8 MB\n"
     ]
    }
   ],
   "source": [
    "data.info()"
   ]
  },
  {
   "cell_type": "code",
   "execution_count": 146,
   "metadata": {},
   "outputs": [
    {
     "data": {
      "text/plain": [
       "Lead_ID       0\n",
       "F2         8830\n",
       "F3            0\n",
       "F4         8834\n",
       "F5         1277\n",
       "           ... \n",
       "F113       9982\n",
       "F114          0\n",
       "F115       9959\n",
       "F117          0\n",
       "Label         0\n",
       "Length: 115, dtype: int64"
      ]
     },
     "execution_count": 146,
     "metadata": {},
     "output_type": "execute_result"
    }
   ],
   "source": [
    "data.isnull().sum()"
   ]
  },
  {
   "cell_type": "code",
   "execution_count": 147,
   "metadata": {},
   "outputs": [],
   "source": [
    "threshold = 0.6 * len(data)\n",
    "data = data.dropna(axis=1, thresh=len(data) - threshold)\n"
   ]
  },
  {
   "cell_type": "code",
   "execution_count": 148,
   "metadata": {},
   "outputs": [],
   "source": [
    "null_counts = data.isnull().sum().sort_values(ascending = \n",
    "                                False)"
   ]
  },
  {
   "cell_type": "code",
   "execution_count": 149,
   "metadata": {},
   "outputs": [
    {
     "data": {
      "text/plain": [
       "F27     4766\n",
       "F20     4149\n",
       "F19     3181\n",
       "F58     2639\n",
       "F5      1277\n",
       "F52      981\n",
       "F50      979\n",
       "F49      975\n",
       "F51      975\n",
       "F102     973\n",
       "F53      973\n",
       "F91      973\n",
       "F55      973\n",
       "F101     973\n",
       "F104     973\n",
       "F105     973\n",
       "F100     973\n",
       "F93      973\n",
       "F103     973\n",
       "F18      973\n",
       "F92      973\n",
       "F7       166\n",
       "F43       21\n",
       "F42       15\n",
       "F40       15\n",
       "F41        6\n",
       "F34        5\n",
       "F31        3\n",
       "F33        3\n",
       "F32        2\n",
       "dtype: int64"
      ]
     },
     "execution_count": 149,
     "metadata": {},
     "output_type": "execute_result"
    }
   ],
   "source": [
    "null_counts[null_counts>0]"
   ]
  },
  {
   "cell_type": "code",
   "execution_count": 150,
   "metadata": {},
   "outputs": [],
   "source": [
    "# Separating numerical and datetime columns\n",
    "numerical_cols = data.select_dtypes(include=['float64', 'int64']).columns\n",
    "datetime_cols = data.select_dtypes(include=['datetime64']).columns\n",
    "\n",
    "numerical_df = data[numerical_cols]\n",
    "datetime_df = data[datetime_cols]\n"
   ]
  },
  {
   "cell_type": "code",
   "execution_count": 151,
   "metadata": {},
   "outputs": [],
   "source": [
    "# Filling missing values in numerical columns with mean\n",
    "numerical_df = numerical_df.fillna(numerical_df.mean())\n"
   ]
  },
  {
   "cell_type": "code",
   "execution_count": 152,
   "metadata": {},
   "outputs": [
    {
     "name": "stderr",
     "output_type": "stream",
     "text": [
      "C:\\Users\\rajka\\AppData\\Local\\Temp\\ipykernel_3944\\427057818.py:2: FutureWarning: DataFrame.fillna with 'method' is deprecated and will raise in a future version. Use obj.ffill() or obj.bfill() instead.\n",
      "  datetime_df = datetime_df.fillna(method='ffill')\n"
     ]
    }
   ],
   "source": [
    "# Filling missing datetime values with forward fill\n",
    "datetime_df = datetime_df.fillna(method='ffill')\n"
   ]
  },
  {
   "cell_type": "code",
   "execution_count": 153,
   "metadata": {},
   "outputs": [],
   "source": [
    "# Combine the processed DataFrames\n",
    "data = pd.concat([numerical_df, datetime_df], axis=1)\n"
   ]
  },
  {
   "cell_type": "code",
   "execution_count": 154,
   "metadata": {},
   "outputs": [
    {
     "data": {
      "text/plain": [
       "Series([], dtype: int64)"
      ]
     },
     "execution_count": 154,
     "metadata": {},
     "output_type": "execute_result"
    }
   ],
   "source": [
    "null_counts = data.isnull().sum().sort_values(ascending = \n",
    "                                False)\n",
    "null_counts[null_counts>0]"
   ]
  },
  {
   "cell_type": "code",
   "execution_count": 155,
   "metadata": {},
   "outputs": [
    {
     "data": {
      "text/html": [
       "<div>\n",
       "<style scoped>\n",
       "    .dataframe tbody tr th:only-of-type {\n",
       "        vertical-align: middle;\n",
       "    }\n",
       "\n",
       "    .dataframe tbody tr th {\n",
       "        vertical-align: top;\n",
       "    }\n",
       "\n",
       "    .dataframe thead th {\n",
       "        text-align: right;\n",
       "    }\n",
       "</style>\n",
       "<table border=\"1\" class=\"dataframe\">\n",
       "  <thead>\n",
       "    <tr style=\"text-align: right;\">\n",
       "      <th></th>\n",
       "      <th>Lead_ID</th>\n",
       "      <th>F5</th>\n",
       "      <th>F7</th>\n",
       "      <th>F8</th>\n",
       "      <th>F9</th>\n",
       "      <th>F10</th>\n",
       "      <th>F11</th>\n",
       "      <th>F12</th>\n",
       "      <th>F13</th>\n",
       "      <th>F15</th>\n",
       "      <th>...</th>\n",
       "      <th>F100</th>\n",
       "      <th>F101</th>\n",
       "      <th>F102</th>\n",
       "      <th>F103</th>\n",
       "      <th>F104</th>\n",
       "      <th>F105</th>\n",
       "      <th>F114</th>\n",
       "      <th>F117</th>\n",
       "      <th>Label</th>\n",
       "      <th>F3</th>\n",
       "    </tr>\n",
       "  </thead>\n",
       "  <tbody>\n",
       "    <tr>\n",
       "      <th>0</th>\n",
       "      <td>197056838</td>\n",
       "      <td>1.0</td>\n",
       "      <td>25517.0</td>\n",
       "      <td>1</td>\n",
       "      <td>1</td>\n",
       "      <td>0</td>\n",
       "      <td>0</td>\n",
       "      <td>0.0</td>\n",
       "      <td>0.0</td>\n",
       "      <td>0</td>\n",
       "      <td>...</td>\n",
       "      <td>4.0</td>\n",
       "      <td>9.0</td>\n",
       "      <td>6.0</td>\n",
       "      <td>4.0</td>\n",
       "      <td>9.0</td>\n",
       "      <td>6.0</td>\n",
       "      <td>12261</td>\n",
       "      <td>0</td>\n",
       "      <td>0</td>\n",
       "      <td>2024-09-22 08:05:00</td>\n",
       "    </tr>\n",
       "    <tr>\n",
       "      <th>1</th>\n",
       "      <td>197056839</td>\n",
       "      <td>2.0</td>\n",
       "      <td>25517.0</td>\n",
       "      <td>1</td>\n",
       "      <td>2</td>\n",
       "      <td>1</td>\n",
       "      <td>0</td>\n",
       "      <td>0.0</td>\n",
       "      <td>0.0</td>\n",
       "      <td>0</td>\n",
       "      <td>...</td>\n",
       "      <td>0.0</td>\n",
       "      <td>6.0</td>\n",
       "      <td>8.0</td>\n",
       "      <td>0.0</td>\n",
       "      <td>6.0</td>\n",
       "      <td>8.0</td>\n",
       "      <td>11852</td>\n",
       "      <td>0</td>\n",
       "      <td>0</td>\n",
       "      <td>2024-09-22 08:05:00</td>\n",
       "    </tr>\n",
       "    <tr>\n",
       "      <th>2</th>\n",
       "      <td>197057485</td>\n",
       "      <td>3.0</td>\n",
       "      <td>25511.0</td>\n",
       "      <td>1</td>\n",
       "      <td>2</td>\n",
       "      <td>2</td>\n",
       "      <td>0</td>\n",
       "      <td>0.0</td>\n",
       "      <td>0.0</td>\n",
       "      <td>0</td>\n",
       "      <td>...</td>\n",
       "      <td>4.0</td>\n",
       "      <td>7.0</td>\n",
       "      <td>4.0</td>\n",
       "      <td>4.0</td>\n",
       "      <td>7.0</td>\n",
       "      <td>4.0</td>\n",
       "      <td>16942</td>\n",
       "      <td>0</td>\n",
       "      <td>0</td>\n",
       "      <td>2024-09-22 08:13:00</td>\n",
       "    </tr>\n",
       "  </tbody>\n",
       "</table>\n",
       "<p>3 rows × 80 columns</p>\n",
       "</div>"
      ],
      "text/plain": [
       "     Lead_ID   F5       F7  F8  F9  F10  F11  F12  F13  F15  ...  F100  F101  \\\n",
       "0  197056838  1.0  25517.0   1   1    0    0  0.0  0.0    0  ...   4.0   9.0   \n",
       "1  197056839  2.0  25517.0   1   2    1    0  0.0  0.0    0  ...   0.0   6.0   \n",
       "2  197057485  3.0  25511.0   1   2    2    0  0.0  0.0    0  ...   4.0   7.0   \n",
       "\n",
       "   F102  F103  F104  F105   F114  F117  Label                  F3  \n",
       "0   6.0   4.0   9.0   6.0  12261     0      0 2024-09-22 08:05:00  \n",
       "1   8.0   0.0   6.0   8.0  11852     0      0 2024-09-22 08:05:00  \n",
       "2   4.0   4.0   7.0   4.0  16942     0      0 2024-09-22 08:13:00  \n",
       "\n",
       "[3 rows x 80 columns]"
      ]
     },
     "execution_count": 155,
     "metadata": {},
     "output_type": "execute_result"
    }
   ],
   "source": [
    "data.head(3)"
   ]
  },
  {
   "cell_type": "code",
   "execution_count": 156,
   "metadata": {},
   "outputs": [
    {
     "data": {
      "image/png": "[encoded data removed]",
      "text/plain": [
       "<Figure size 1200x800 with 2 Axes>"
      ]
     },
     "metadata": {},
     "output_type": "display_data"
    }
   ],
   "source": [
    "import matplotlib.pyplot as plt\n",
    "import seaborn as sns\n",
    "\n",
    "correlation_matrix = data.select_dtypes(include=['float64', 'int64']).corr()\n",
    "\n",
    "plt.figure(figsize=(12, 8))\n",
    "sns.heatmap(correlation_matrix, annot=False, cmap='coolwarm', linewidths=0.5, \n",
    "            cbar_kws={'label': 'Correlation Coefficient'}, \n",
    "            xticklabels=False, yticklabels=False)\n",
    "plt.title('Correlation Heatmap')\n",
    "plt.show()\n"
   ]
  },
  {
   "cell_type": "code",
   "execution_count": 157,
   "metadata": {},
   "outputs": [
    {
     "name": "stdout",
     "output_type": "stream",
     "text": [
      "            Lead_ID            F5            F7            F8            F9  \\\n",
      "count  1.000000e+04  10000.000000  10000.000000  10000.000000  10000.000000   \n",
      "mean   2.003409e+08     59.435745  23749.615518      2.163000      3.947200   \n",
      "min    1.970567e+08      1.000000     64.000000      1.000000      1.000000   \n",
      "25%    1.986569e+08      2.000000  25512.000000      2.000000      1.000000   \n",
      "50%    2.009292e+08     32.000000  25516.000000      2.000000      3.000000   \n",
      "75%    2.019331e+08     88.000000  25517.000000      2.000000      4.000000   \n",
      "max    2.030413e+08    385.000000  34158.000000     24.000000    100.000000   \n",
      "std    1.875632e+06     74.442361   6624.407889      1.820264      7.233633   \n",
      "\n",
      "                F10      F11           F12           F13      F15  ...  \\\n",
      "count  10000.000000  10000.0  10000.000000  10000.000000  10000.0  ...   \n",
      "mean    2912.402400      0.0      3.911019      1.267598      0.0  ...   \n",
      "min        0.000000      0.0      0.000000      0.000000      0.0  ...   \n",
      "25%     1249.750000      0.0      0.000000      0.000000      0.0  ...   \n",
      "50%     2499.500000      0.0      0.000000      0.000000      0.0  ...   \n",
      "75%     4531.250000      0.0      0.000000      0.000000      0.0  ...   \n",
      "max     7031.000000      0.0    100.000000     89.583333      0.0  ...   \n",
      "std     1994.430905      0.0     15.016164      8.753030      0.0  ...   \n",
      "\n",
      "               F100          F101          F102          F103          F104  \\\n",
      "count  10000.000000  10000.000000  10000.000000  10000.000000  10000.000000   \n",
      "mean       2.508031      9.837044      6.110114      2.508031      9.837044   \n",
      "min        0.000000      2.000000      1.000000      0.000000      2.000000   \n",
      "25%        1.000000      7.000000      3.000000      1.000000      7.000000   \n",
      "50%        2.508031      9.837044      6.110114      2.508031      9.837044   \n",
      "75%        4.000000     12.000000      9.000000      4.000000     12.000000   \n",
      "max        6.000000     18.000000     12.000000      6.000000     18.000000   \n",
      "std        1.508922      3.809748      3.536595      1.508922      3.809748   \n",
      "\n",
      "               F105          F114     F117         Label  \\\n",
      "count  10000.000000  10000.000000  10000.0  10000.000000   \n",
      "mean       6.110114  64225.576500      0.0      0.074400   \n",
      "min        1.000000     31.000000      0.0      0.000000   \n",
      "25%        3.000000  66766.000000      0.0      0.000000   \n",
      "50%        6.110114  67557.000000      0.0      0.000000   \n",
      "75%        9.000000  75320.000000      0.0      0.000000   \n",
      "max       12.000000  86398.000000      0.0      1.000000   \n",
      "std        3.536595  21008.333993      0.0      0.262434   \n",
      "\n",
      "                                  F3  \n",
      "count                          10000  \n",
      "mean   2024-10-09 14:42:28.517999872  \n",
      "min              2024-09-21 00:02:00  \n",
      "25%              2024-09-28 12:01:15  \n",
      "50%              2024-10-12 10:46:30  \n",
      "75%              2024-10-18 19:35:00  \n",
      "max              2024-10-27 09:51:00  \n",
      "std                              NaN  \n",
      "\n",
      "[8 rows x 80 columns]\n"
     ]
    }
   ],
   "source": [
    "summary_stats = data.describe()\n",
    "print(summary_stats)\n"
   ]
  },
  {
   "cell_type": "code",
   "execution_count": 158,
   "metadata": {},
   "outputs": [],
   "source": [
    "\n",
    "# Extract year, month, and day from F3\n",
    "data['F3_year'] = data['F3'].dt.year\n",
    "data['F3_month'] = data['F3'].dt.month\n",
    "data['F3_day'] = data['F3'].dt.day\n",
    "\n",
    "# Drop the original datetime column as it's no longer needed\n",
    "data.drop(['F3'], axis=1, inplace=True)\n"
   ]
  },
  {
   "cell_type": "code",
   "execution_count": 159,
   "metadata": {},
   "outputs": [
    {
     "data": {
      "text/html": [
       "<div>\n",
       "<style scoped>\n",
       "    .dataframe tbody tr th:only-of-type {\n",
       "        vertical-align: middle;\n",
       "    }\n",
       "\n",
       "    .dataframe tbody tr th {\n",
       "        vertical-align: top;\n",
       "    }\n",
       "\n",
       "    .dataframe thead th {\n",
       "        text-align: right;\n",
       "    }\n",
       "</style>\n",
       "<table border=\"1\" class=\"dataframe\">\n",
       "  <thead>\n",
       "    <tr style=\"text-align: right;\">\n",
       "      <th></th>\n",
       "      <th>Lead_ID</th>\n",
       "      <th>F5</th>\n",
       "      <th>F7</th>\n",
       "      <th>F8</th>\n",
       "      <th>F9</th>\n",
       "      <th>F10</th>\n",
       "      <th>F11</th>\n",
       "      <th>F12</th>\n",
       "      <th>F13</th>\n",
       "      <th>F15</th>\n",
       "      <th>...</th>\n",
       "      <th>F102</th>\n",
       "      <th>F103</th>\n",
       "      <th>F104</th>\n",
       "      <th>F105</th>\n",
       "      <th>F114</th>\n",
       "      <th>F117</th>\n",
       "      <th>Label</th>\n",
       "      <th>F3_year</th>\n",
       "      <th>F3_month</th>\n",
       "      <th>F3_day</th>\n",
       "    </tr>\n",
       "  </thead>\n",
       "  <tbody>\n",
       "    <tr>\n",
       "      <th>0</th>\n",
       "      <td>197056838</td>\n",
       "      <td>1.0</td>\n",
       "      <td>25517.0</td>\n",
       "      <td>1</td>\n",
       "      <td>1</td>\n",
       "      <td>0</td>\n",
       "      <td>0</td>\n",
       "      <td>0.0</td>\n",
       "      <td>0.0</td>\n",
       "      <td>0</td>\n",
       "      <td>...</td>\n",
       "      <td>6.0</td>\n",
       "      <td>4.0</td>\n",
       "      <td>9.0</td>\n",
       "      <td>6.0</td>\n",
       "      <td>12261</td>\n",
       "      <td>0</td>\n",
       "      <td>0</td>\n",
       "      <td>2024</td>\n",
       "      <td>9</td>\n",
       "      <td>22</td>\n",
       "    </tr>\n",
       "    <tr>\n",
       "      <th>1</th>\n",
       "      <td>197056839</td>\n",
       "      <td>2.0</td>\n",
       "      <td>25517.0</td>\n",
       "      <td>1</td>\n",
       "      <td>2</td>\n",
       "      <td>1</td>\n",
       "      <td>0</td>\n",
       "      <td>0.0</td>\n",
       "      <td>0.0</td>\n",
       "      <td>0</td>\n",
       "      <td>...</td>\n",
       "      <td>8.0</td>\n",
       "      <td>0.0</td>\n",
       "      <td>6.0</td>\n",
       "      <td>8.0</td>\n",
       "      <td>11852</td>\n",
       "      <td>0</td>\n",
       "      <td>0</td>\n",
       "      <td>2024</td>\n",
       "      <td>9</td>\n",
       "      <td>22</td>\n",
       "    </tr>\n",
       "    <tr>\n",
       "      <th>2</th>\n",
       "      <td>197057485</td>\n",
       "      <td>3.0</td>\n",
       "      <td>25511.0</td>\n",
       "      <td>1</td>\n",
       "      <td>2</td>\n",
       "      <td>2</td>\n",
       "      <td>0</td>\n",
       "      <td>0.0</td>\n",
       "      <td>0.0</td>\n",
       "      <td>0</td>\n",
       "      <td>...</td>\n",
       "      <td>4.0</td>\n",
       "      <td>4.0</td>\n",
       "      <td>7.0</td>\n",
       "      <td>4.0</td>\n",
       "      <td>16942</td>\n",
       "      <td>0</td>\n",
       "      <td>0</td>\n",
       "      <td>2024</td>\n",
       "      <td>9</td>\n",
       "      <td>22</td>\n",
       "    </tr>\n",
       "  </tbody>\n",
       "</table>\n",
       "<p>3 rows × 82 columns</p>\n",
       "</div>"
      ],
      "text/plain": [
       "     Lead_ID   F5       F7  F8  F9  F10  F11  F12  F13  F15  ...  F102  F103  \\\n",
       "0  197056838  1.0  25517.0   1   1    0    0  0.0  0.0    0  ...   6.0   4.0   \n",
       "1  197056839  2.0  25517.0   1   2    1    0  0.0  0.0    0  ...   8.0   0.0   \n",
       "2  197057485  3.0  25511.0   1   2    2    0  0.0  0.0    0  ...   4.0   4.0   \n",
       "\n",
       "   F104  F105   F114  F117  Label  F3_year  F3_month  F3_day  \n",
       "0   9.0   6.0  12261     0      0     2024         9      22  \n",
       "1   6.0   8.0  11852     0      0     2024         9      22  \n",
       "2   7.0   4.0  16942     0      0     2024         9      22  \n",
       "\n",
       "[3 rows x 82 columns]"
      ]
     },
     "execution_count": 159,
     "metadata": {},
     "output_type": "execute_result"
    }
   ],
   "source": [
    "data.head(3)"
   ]
  },
  {
   "cell_type": "code",
   "execution_count": 160,
   "metadata": {},
   "outputs": [
    {
     "name": "stdout",
     "output_type": "stream",
     "text": [
      "<class 'pandas.core.frame.DataFrame'>\n",
      "RangeIndex: 10000 entries, 0 to 9999\n",
      "Data columns (total 82 columns):\n",
      " #   Column    Non-Null Count  Dtype  \n",
      "---  ------    --------------  -----  \n",
      " 0   Lead_ID   10000 non-null  int64  \n",
      " 1   F5        10000 non-null  float64\n",
      " 2   F7        10000 non-null  float64\n",
      " 3   F8        10000 non-null  int64  \n",
      " 4   F9        10000 non-null  int64  \n",
      " 5   F10       10000 non-null  int64  \n",
      " 6   F11       10000 non-null  int64  \n",
      " 7   F12       10000 non-null  float64\n",
      " 8   F13       10000 non-null  float64\n",
      " 9   F15       10000 non-null  int64  \n",
      " 10  F18       10000 non-null  float64\n",
      " 11  F19       10000 non-null  float64\n",
      " 12  F20       10000 non-null  float64\n",
      " 13  F23       10000 non-null  int64  \n",
      " 14  F24       10000 non-null  int64  \n",
      " 15  F25       10000 non-null  float64\n",
      " 16  F26       10000 non-null  int64  \n",
      " 17  F27       10000 non-null  float64\n",
      " 18  F28       10000 non-null  float64\n",
      " 19  F29       10000 non-null  float64\n",
      " 20  F30       10000 non-null  int64  \n",
      " 21  F31       10000 non-null  float64\n",
      " 22  F32       10000 non-null  float64\n",
      " 23  F33       10000 non-null  float64\n",
      " 24  F34       10000 non-null  float64\n",
      " 25  F35       10000 non-null  int64  \n",
      " 26  F37       10000 non-null  float64\n",
      " 27  F38       10000 non-null  float64\n",
      " 28  F39       10000 non-null  int64  \n",
      " 29  F40       10000 non-null  float64\n",
      " 30  F41       10000 non-null  float64\n",
      " 31  F42       10000 non-null  float64\n",
      " 32  F43       10000 non-null  float64\n",
      " 33  F44       10000 non-null  int64  \n",
      " 34  F46       10000 non-null  float64\n",
      " 35  F47       10000 non-null  float64\n",
      " 36  F48       10000 non-null  int64  \n",
      " 37  F49       10000 non-null  float64\n",
      " 38  F50       10000 non-null  float64\n",
      " 39  F51       10000 non-null  float64\n",
      " 40  F52       10000 non-null  float64\n",
      " 41  F53       10000 non-null  float64\n",
      " 42  F55       10000 non-null  float64\n",
      " 43  F56       10000 non-null  int64  \n",
      " 44  F57       10000 non-null  float64\n",
      " 45  F58       10000 non-null  float64\n",
      " 46  F68       10000 non-null  int64  \n",
      " 47  F69       10000 non-null  int64  \n",
      " 48  F70       10000 non-null  int64  \n",
      " 49  F71       10000 non-null  int64  \n",
      " 50  F72       10000 non-null  int64  \n",
      " 51  F73       10000 non-null  int64  \n",
      " 52  F78       10000 non-null  int64  \n",
      " 53  F79       10000 non-null  int64  \n",
      " 54  F80       10000 non-null  int64  \n",
      " 55  F81       10000 non-null  int64  \n",
      " 56  F82       10000 non-null  int64  \n",
      " 57  F83       10000 non-null  int64  \n",
      " 58  F84       10000 non-null  int64  \n",
      " 59  F85       10000 non-null  int64  \n",
      " 60  F86       10000 non-null  int64  \n",
      " 61  F91       10000 non-null  float64\n",
      " 62  F92       10000 non-null  float64\n",
      " 63  F93       10000 non-null  float64\n",
      " 64  F94       10000 non-null  int64  \n",
      " 65  F95       10000 non-null  int64  \n",
      " 66  F96       10000 non-null  int64  \n",
      " 67  F97       10000 non-null  int64  \n",
      " 68  F98       10000 non-null  int64  \n",
      " 69  F99       10000 non-null  int64  \n",
      " 70  F100      10000 non-null  float64\n",
      " 71  F101      10000 non-null  float64\n",
      " 72  F102      10000 non-null  float64\n",
      " 73  F103      10000 non-null  float64\n",
      " 74  F104      10000 non-null  float64\n",
      " 75  F105      10000 non-null  float64\n",
      " 76  F114      10000 non-null  int64  \n",
      " 77  F117      10000 non-null  int64  \n",
      " 78  Label     10000 non-null  int64  \n",
      " 79  F3_year   10000 non-null  int32  \n",
      " 80  F3_month  10000 non-null  int32  \n",
      " 81  F3_day    10000 non-null  int32  \n",
      "dtypes: float64(40), int32(3), int64(39)\n",
      "memory usage: 6.1 MB\n"
     ]
    }
   ],
   "source": [
    "data.info()"
   ]
  },
  {
   "cell_type": "code",
   "execution_count": 161,
   "metadata": {},
   "outputs": [
    {
     "name": "stdout",
     "output_type": "stream",
     "text": [
      "<class 'pandas.core.series.Series'>\n",
      "Index: 82 entries, Lead_ID to F3_day\n",
      "Series name: None\n",
      "Non-Null Count  Dtype\n",
      "--------------  -----\n",
      "82 non-null     int64\n",
      "dtypes: int64(1)\n",
      "memory usage: 3.3+ KB\n"
     ]
    }
   ],
   "source": [
    "data.isnull().sum().info()"
   ]
  },
  {
   "cell_type": "code",
   "execution_count": 162,
   "metadata": {},
   "outputs": [
    {
     "name": "stdout",
     "output_type": "stream",
     "text": [
      "Lead_ID     0\n",
      "F5          0\n",
      "F7          0\n",
      "F8          0\n",
      "F9          0\n",
      "           ..\n",
      "F117        0\n",
      "Label       0\n",
      "F3_year     0\n",
      "F3_month    0\n",
      "F3_day      0\n",
      "Length: 82, dtype: int64\n"
     ]
    }
   ],
   "source": [
    "# Convert all columns to float (if possible)\n",
    "data = data.apply(pd.to_numeric, errors='coerce')\n",
    "\n",
    "print(data.isna().sum())  # To see if any missing values have appeared\n"
   ]
  },
  {
   "cell_type": "code",
   "execution_count": 163,
   "metadata": {},
   "outputs": [],
   "source": [
    "\n",
    "X = data.drop('Label', axis=1)  # Features\n",
    "y = data['Label']  # Target\n",
    "\n",
    "from sklearn.model_selection import train_test_split\n",
    "X_train, X_test, y_train, y_test = train_test_split(X, y, test_size=0.2, random_state=42)\n"
   ]
  },
  {
   "cell_type": "code",
   "execution_count": 164,
   "metadata": {},
   "outputs": [],
   "source": [
    "# Best Parameters: {'bootstrap': False, 'max_depth': 20, 'max_features': 'sqrt', 'min_samples_leaf': 1, 'min_samples_split': 5, 'n_estimators': 100}\n",
    "# Best Cross-validation Score (Negative MSE): -0.0032624670291469733\n",
    "# Test Score (R^2): 0.9543307644155279"
   ]
  },
  {
   "cell_type": "code",
   "execution_count": 165,
   "metadata": {},
   "outputs": [
    {
     "name": "stdout",
     "output_type": "stream",
     "text": [
      "Fitting 5 folds for each of 648 candidates, totalling 3240 fits\n"
     ]
    },
    {
     "name": "stderr",
     "output_type": "stream",
     "text": [
      "c:\\Users\\rajka\\miniforge3\\Lib\\site-packages\\sklearn\\model_selection\\_validation.py:540: FitFailedWarning: \n",
      "1080 fits failed out of a total of 3240.\n",
      "The score on these train-test partitions for these parameters will be set to nan.\n",
      "If these failures are not expected, you can try to debug them by setting error_score='raise'.\n",
      "\n",
      "Below are more details about the failures:\n",
      "--------------------------------------------------------------------------------\n",
      "493 fits failed with the following error:\n",
      "Traceback (most recent call last):\n",
      "  File \"c:\\Users\\rajka\\miniforge3\\Lib\\site-packages\\sklearn\\model_selection\\_validation.py\", line 888, in _fit_and_score\n",
      "    estimator.fit(X_train, y_train, **fit_params)\n",
      "  File \"c:\\Users\\rajka\\miniforge3\\Lib\\site-packages\\sklearn\\base.py\", line 1466, in wrapper\n",
      "    estimator._validate_params()\n",
      "  File \"c:\\Users\\rajka\\miniforge3\\Lib\\site-packages\\sklearn\\base.py\", line 666, in _validate_params\n",
      "    validate_parameter_constraints(\n",
      "  File \"c:\\Users\\rajka\\miniforge3\\Lib\\site-packages\\sklearn\\utils\\_param_validation.py\", line 95, in validate_parameter_constraints\n",
      "    raise InvalidParameterError(\n",
      "sklearn.utils._param_validation.InvalidParameterError: The 'max_features' parameter of RandomForestClassifier must be an int in the range [1, inf), a float in the range (0.0, 1.0], a str among {'sqrt', 'log2'} or None. Got 'auto' instead.\n",
      "\n",
      "--------------------------------------------------------------------------------\n",
      "587 fits failed with the following error:\n",
      "Traceback (most recent call last):\n",
      "  File \"c:\\Users\\rajka\\miniforge3\\Lib\\site-packages\\sklearn\\model_selection\\_validation.py\", line 888, in _fit_and_score\n",
      "    estimator.fit(X_train, y_train, **fit_params)\n",
      "  File \"c:\\Users\\rajka\\miniforge3\\Lib\\site-packages\\sklearn\\base.py\", line 1466, in wrapper\n",
      "    estimator._validate_params()\n",
      "  File \"c:\\Users\\rajka\\miniforge3\\Lib\\site-packages\\sklearn\\base.py\", line 666, in _validate_params\n",
      "    validate_parameter_constraints(\n",
      "  File \"c:\\Users\\rajka\\miniforge3\\Lib\\site-packages\\sklearn\\utils\\_param_validation.py\", line 95, in validate_parameter_constraints\n",
      "    raise InvalidParameterError(\n",
      "sklearn.utils._param_validation.InvalidParameterError: The 'max_features' parameter of RandomForestClassifier must be an int in the range [1, inf), a float in the range (0.0, 1.0], a str among {'log2', 'sqrt'} or None. Got 'auto' instead.\n",
      "\n",
      "  warnings.warn(some_fits_failed_message, FitFailedWarning)\n",
      "c:\\Users\\rajka\\miniforge3\\Lib\\site-packages\\sklearn\\model_selection\\_search.py:1103: UserWarning: One or more of the test scores are non-finite: [     nan      nan      nan      nan      nan      nan      nan      nan\n",
      "      nan      nan      nan      nan      nan      nan      nan      nan\n",
      "      nan      nan      nan      nan      nan      nan      nan      nan\n",
      "      nan      nan      nan 0.997875 0.9975   0.997875 0.997375 0.997625\n",
      " 0.997875 0.997625 0.997625 0.997375 0.996625 0.997375 0.9975   0.996125\n",
      " 0.996875 0.99725  0.996125 0.9965   0.996875 0.9955   0.9955   0.995625\n",
      " 0.9955   0.9955   0.995625 0.99475  0.995375 0.99525  0.9935   0.99325\n",
      " 0.993125 0.9935   0.99325  0.99375  0.992375 0.992625 0.99275  0.993\n",
      " 0.992375 0.992625 0.9925   0.9925   0.9925   0.99275  0.99275  0.992625\n",
      " 0.992125 0.992    0.992    0.992125 0.992    0.992    0.99175  0.99175\n",
      " 0.99225       nan      nan      nan      nan      nan      nan      nan\n",
      "      nan      nan      nan      nan      nan      nan      nan      nan\n",
      "      nan      nan      nan      nan      nan      nan      nan      nan\n",
      "      nan      nan      nan      nan 0.99675  0.99725  0.99725  0.996625\n",
      " 0.9965   0.997375 0.9965   0.9965   0.99675  0.996125 0.99675  0.996875\n",
      " 0.995625 0.99625  0.9965   0.995875 0.996    0.995875 0.994875 0.995375\n",
      " 0.995375 0.994875 0.995375 0.995375 0.994375 0.994625 0.994875 0.9925\n",
      " 0.992625 0.9925   0.992875 0.99275  0.9925   0.992    0.991875 0.99225\n",
      " 0.99175  0.991875 0.992125 0.991875 0.992125 0.992    0.992    0.992125\n",
      " 0.99225  0.99175  0.9915   0.99175  0.99175  0.9915   0.99175  0.991625\n",
      " 0.991375 0.99125       nan      nan      nan      nan      nan      nan\n",
      "      nan      nan      nan      nan      nan      nan      nan      nan\n",
      "      nan      nan      nan      nan      nan      nan      nan      nan\n",
      "      nan      nan      nan      nan      nan 0.997875 0.997625 0.99775\n",
      " 0.997375 0.997625 0.997875 0.997625 0.997625 0.9975   0.996625 0.9975\n",
      " 0.997375 0.996    0.996875 0.99725  0.996    0.9965   0.996875 0.9955\n",
      " 0.9955   0.995625 0.9955   0.9955   0.995625 0.99475  0.995125 0.99525\n",
      " 0.993625 0.993125 0.993    0.993625 0.993125 0.99375  0.99275  0.9925\n",
      " 0.99275  0.99275  0.99225  0.992375 0.99275  0.9925   0.9925   0.99275\n",
      " 0.992625 0.992625 0.99225  0.991875 0.992    0.99225  0.991875 0.992\n",
      " 0.991875 0.991875 0.992125      nan      nan      nan      nan      nan\n",
      "      nan      nan      nan      nan      nan      nan      nan      nan\n",
      "      nan      nan      nan      nan      nan      nan      nan      nan\n",
      "      nan      nan      nan      nan      nan      nan 0.997875 0.9975\n",
      " 0.997875 0.997375 0.997625 0.997875 0.997625 0.997625 0.997375 0.996625\n",
      " 0.997375 0.9975   0.996125 0.996875 0.99725  0.996125 0.9965   0.996875\n",
      " 0.9955   0.9955   0.995625 0.9955   0.9955   0.995625 0.99475  0.995375\n",
      " 0.99525  0.9935   0.99325  0.993125 0.9935   0.99325  0.99375  0.992375\n",
      " 0.992625 0.99275  0.993    0.992375 0.992625 0.9925   0.9925   0.9925\n",
      " 0.99275  0.99275  0.992625 0.992125 0.992    0.992    0.992125 0.992\n",
      " 0.992    0.99175  0.99175  0.99225       nan      nan      nan      nan\n",
      "      nan      nan      nan      nan      nan      nan      nan      nan\n",
      "      nan      nan      nan      nan      nan      nan      nan      nan\n",
      "      nan      nan      nan      nan      nan      nan      nan 0.998375\n",
      " 0.998875 0.99825  0.998375 0.998625 0.998375 0.998125 0.99825  0.9985\n",
      " 0.997875 0.998    0.998125 0.998125 0.998    0.99825  0.9975   0.997875\n",
      " 0.99775  0.996375 0.99675  0.996875 0.996375 0.99675  0.996875 0.99625\n",
      " 0.997    0.997125 0.994875 0.994625 0.994875 0.9945   0.99425  0.994125\n",
      " 0.993875 0.99375  0.99425  0.994    0.9935   0.993625 0.994    0.993375\n",
      " 0.993625 0.9935   0.992875 0.993125 0.993125 0.9925   0.992875 0.993125\n",
      " 0.9925   0.992875 0.992875 0.99275  0.99275       nan      nan      nan\n",
      "      nan      nan      nan      nan      nan      nan      nan      nan\n",
      "      nan      nan      nan      nan      nan      nan      nan      nan\n",
      "      nan      nan      nan      nan      nan      nan      nan      nan\n",
      " 0.997625 0.99775  0.997875 0.99775  0.998    0.998    0.997625 0.998125\n",
      " 0.99825  0.997625 0.997875 0.998    0.997625 0.99775  0.99775  0.996875\n",
      " 0.99725  0.9975   0.995625 0.996375 0.996625 0.995625 0.996375 0.996625\n",
      " 0.996375 0.99625  0.996375 0.99325  0.993    0.993375 0.993    0.993375\n",
      " 0.9935   0.99275  0.992625 0.99275  0.99325  0.99275  0.99275  0.992625\n",
      " 0.992625 0.993125 0.992375 0.99275  0.992875 0.992    0.992    0.99225\n",
      " 0.992    0.992    0.99225  0.992375 0.99225  0.99225       nan      nan\n",
      "      nan      nan      nan      nan      nan      nan      nan      nan\n",
      "      nan      nan      nan      nan      nan      nan      nan      nan\n",
      "      nan      nan      nan      nan      nan      nan      nan      nan\n",
      "      nan 0.998625 0.998875 0.99825  0.99825  0.9985   0.998375 0.998125\n",
      " 0.998125 0.998375 0.997625 0.998125 0.998    0.998125 0.998    0.99825\n",
      " 0.997375 0.997875 0.99775  0.9965   0.99675  0.996875 0.9965   0.99675\n",
      " 0.996875 0.99625  0.997125 0.997125 0.995    0.99425  0.994625 0.994875\n",
      " 0.994625 0.994375 0.9935   0.99375  0.994    0.994    0.993625 0.99375\n",
      " 0.99375  0.993625 0.99375  0.99375  0.993    0.99325  0.993    0.9925\n",
      " 0.99275  0.993    0.9925   0.99275  0.99275  0.99275  0.992875      nan\n",
      "      nan      nan      nan      nan      nan      nan      nan      nan\n",
      "      nan      nan      nan      nan      nan      nan      nan      nan\n",
      "      nan      nan      nan      nan      nan      nan      nan      nan\n",
      "      nan      nan 0.998375 0.998875 0.99825  0.998375 0.998625 0.998375\n",
      " 0.998125 0.99825  0.9985   0.997875 0.998    0.998125 0.998125 0.998\n",
      " 0.99825  0.9975   0.997875 0.99775  0.996375 0.99675  0.996875 0.996375\n",
      " 0.99675  0.996875 0.99625  0.997    0.997125 0.994875 0.994625 0.994875\n",
      " 0.9945   0.99425  0.994125 0.993875 0.99375  0.99425  0.994    0.9935\n",
      " 0.993625 0.994    0.993375 0.993625 0.9935   0.992875 0.993125 0.993125\n",
      " 0.9925   0.992875 0.993125 0.9925   0.992875 0.992875 0.99275  0.99275 ]\n",
      "  warnings.warn(\n"
     ]
    },
    {
     "name": "stdout",
     "output_type": "stream",
     "text": [
      "Best Parameters: {'bootstrap': False, 'max_depth': None, 'max_features': 'sqrt', 'min_samples_leaf': 1, 'min_samples_split': 2, 'n_estimators': 200}\n",
      "Test Accuracy: 0.9985\n"
     ]
    }
   ],
   "source": [
    "from sklearn.ensemble import RandomForestClassifier\n",
    "from sklearn.model_selection import GridSearchCV\n",
    "\n",
    "rf_classifier = RandomForestClassifier(random_state=42)\n",
    "\n",
    "param_grid = {\n",
    "    'n_estimators': [100, 200, 300],\n",
    "    'max_depth': [None, 10, 20, 30],\n",
    "    'min_samples_split': [2, 5, 10],\n",
    "    'min_samples_leaf': [1, 2, 4],\n",
    "    'max_features': ['auto', 'sqrt', 'log2'],\n",
    "    'bootstrap': [True, False]\n",
    "}\n",
    "\n",
    "grid_search = GridSearchCV(estimator=rf_classifier, param_grid=param_grid,\n",
    "                           cv=5, n_jobs=-1, verbose=2, scoring='accuracy')\n",
    "\n",
    "grid_search.fit(X_train, y_train)\n",
    "\n",
    "model = grid_search.best_estimator_\n",
    "\n",
    "test_accuracy = model.score(X_test, y_test)\n",
    "print(\"Best Parameters:\", grid_search.best_params_)\n",
    "print(\"Test Accuracy:\", test_accuracy)\n"
   ]
  },
  {
   "cell_type": "code",
   "execution_count": 166,
   "metadata": {},
   "outputs": [
    {
     "data": {
      "text/plain": [
       "Text(0.5, 1.0, 'Confusion Matrix')"
      ]
     },
     "execution_count": 166,
     "metadata": {},
     "output_type": "execute_result"
    },
    {
     "data": {
      "image/png": "[encoded data removed]",
      "text/plain": [
       "<Figure size 640x480 with 2 Axes>"
      ]
     },
     "metadata": {},
     "output_type": "display_data"
    }
   ],
   "source": [
    "from sklearn.metrics import confusion_matrix, ConfusionMatrixDisplay\n",
    "\n",
    "y_pred = model.predict(X_test)\n",
    "\n",
    "cm = confusion_matrix(y_test, y_pred)\n",
    "\n",
    "disp = ConfusionMatrixDisplay(confusion_matrix=cm, display_labels=model.classes_)\n",
    "disp.plot(cmap='Blues')\n",
    "disp.ax_.set_title('Confusion Matrix')\n"
   ]
  },
  {
   "cell_type": "code",
   "execution_count": 167,
   "metadata": {},
   "outputs": [
    {
     "data": {
      "image/png": "[encoded data removed]",
      "text/plain": [
       "<Figure size 800x600 with 1 Axes>"
      ]
     },
     "metadata": {},
     "output_type": "display_data"
    }
   ],
   "source": [
    "from sklearn.metrics import roc_curve, auc\n",
    "import matplotlib.pyplot as plt\n",
    "\n",
    "y_prob = model.predict_proba(X_test)[:, 1]\n",
    "\n",
    "fpr, tpr, thresholds = roc_curve(y_test, y_prob)\n",
    "roc_auc = auc(fpr, tpr)\n",
    "\n",
    "plt.figure(figsize=(8, 6))\n",
    "plt.plot(fpr, tpr, color='blue', label=f'ROC Curve (AUC = {roc_auc:.2f})')\n",
    "plt.plot([0, 1], [0, 1], color='red', linestyle='--', label='Random Guess')\n",
    "plt.xlabel('False Positive Rate')\n",
    "plt.ylabel('True Positive Rate')\n",
    "plt.title('ROC Curve')\n",
    "plt.legend(loc='lower right')\n",
    "plt.grid()\n",
    "plt.show()\n"
   ]
  },
  {
   "cell_type": "code",
   "execution_count": 169,
   "metadata": {},
   "outputs": [
    {
     "data": {
      "image/png": "[encoded data removed]",
      "text/plain": [
       "<Figure size 800x600 with 1 Axes>"
      ]
     },
     "metadata": {},
     "output_type": "display_data"
    }
   ],
   "source": [
    "from sklearn.metrics import precision_recall_curve\n",
    "\n",
    "precision, recall, thresholds = precision_recall_curve(y_test, y_prob)\n",
    "\n",
    "plt.figure(figsize=(8, 6))\n",
    "plt.plot(recall, precision, color='green', label='Precision-Recall Curve')\n",
    "plt.xlabel('Recall')\n",
    "plt.ylabel('Precision')\n",
    "plt.title('Precision-Recall Curve')\n",
    "plt.legend(loc='lower left')\n",
    "plt.grid()\n",
    "plt.show()\n"
   ]
  },
  {
   "cell_type": "code",
   "execution_count": null,
   "metadata": {},
   "outputs": [
    {
     "data": {
      "image/png": "[encoded data removed]",
      "text/plain": [
       "<Figure size 800x600 with 1 Axes>"
      ]
     },
     "metadata": {},
     "output_type": "display_data"
    }
   ],
   "source": [
    "from sklearn.model_selection import learning_curve\n",
    "import matplotlib.pyplot as plt\n",
    "\n",
    "train_sizes, train_scores, test_scores = learning_curve(model, X_train, y_train, cv=5, n_jobs=-1)\n",
    "\n",
    "train_mean = train_scores.mean(axis=1)\n",
    "test_mean = test_scores.mean(axis=1)\n",
    "train_std = train_scores.std(axis=1)\n",
    "test_std = test_scores.std(axis=1)\n",
    "\n",
    "plt.figure(figsize=(8, 6))\n",
    "plt.plot(train_sizes, train_mean, color='blue', label='Training Score')\n",
    "plt.plot(train_sizes, test_mean, color='green', label='Cross-validation Score')\n",
    "plt.fill_between(train_sizes, train_mean - train_std, train_mean + train_std, color='blue', alpha=0.2)\n",
    "plt.fill_between(train_sizes, test_mean - test_std, test_mean + test_std, color='green', alpha=0.2)\n",
    "plt.xlabel('Training Size')\n",
    "plt.ylabel('Score')\n",
    "plt.title('Learning Curve')\n",
    "plt.legend(loc='best')\n",
    "plt.grid()\n",
    "plt.show()\n"
   ]
  },
  {
   "cell_type": "code",
   "execution_count": 172,
   "metadata": {},
   "outputs": [
    {
     "name": "stdout",
     "output_type": "stream",
     "text": [
      "Accuracy: 0.9985\n",
      "Precision: 0.9934640522875817\n",
      "Recall: 0.987012987012987\n",
      "F1-Score: 0.990228013029316\n",
      "ROC-AUC: 0.9932356376018348\n"
     ]
    }
   ],
   "source": [
    "\n",
    "from sklearn.metrics import accuracy_score, precision_score, recall_score, f1_score, confusion_matrix, roc_auc_score, log_loss, roc_curve\n",
    "\n",
    "# Calculate Accuracy\n",
    "accuracy = accuracy_score(y_test, y_pred)\n",
    "print(f\"Accuracy: {accuracy}\")\n",
    "\n",
    "# Calculate Precision\n",
    "precision = precision_score(y_test, y_pred)\n",
    "print(f\"Precision: {precision}\")\n",
    "\n",
    "# Calculate Recall\n",
    "recall = recall_score(y_test, y_pred)\n",
    "print(f\"Recall: {recall}\")\n",
    "\n",
    "# Calculate F1-Score\n",
    "f1 = f1_score(y_test, y_pred)\n",
    "print(f\"F1-Score: {f1}\")\n",
    "\n",
    "\n",
    "# ROC-AUC Score\n",
    "roc_auc = roc_auc_score(y_test, y_pred)\n",
    "print(f\"ROC-AUC: {roc_auc}\")\n",
    "\n",
    "\n"
   ]
  },
  {
   "cell_type": "code",
   "execution_count": 173,
   "metadata": {},
   "outputs": [
    {
     "name": "stdout",
     "output_type": "stream",
     "text": [
      "      Metric     Value\n",
      "0   Accuracy  0.998500\n",
      "1  Precision  0.993464\n",
      "2     Recall  0.987013\n",
      "3   F1-Score  0.990228\n",
      "4    ROC-AUC  0.993236\n"
     ]
    }
   ],
   "source": [
    "import pandas as pd\n",
    "metrics = {\n",
    "    'Metric': ['Accuracy', 'Precision', 'Recall', 'F1-Score', 'ROC-AUC'],\n",
    "    'Value': [0.9985, 0.9934640522875817, 0.987012987012987, 0.990228013029316, 0.9932356376018348]\n",
    "}\n",
    "metrics_df = pd.DataFrame(metrics)\n",
    "print(metrics_df)\n"
   ]
  },
  {
   "cell_type": "code",
   "execution_count": null,
   "metadata": {},
   "outputs": [],
   "source": []
  }
 ],
 "metadata": {
  "kernelspec": {
   "display_name": "Python 3 (ipykernel)",
   "language": "python",
   "name": "python3"
  },
  "language_info": {
   "codemirror_mode": {
    "name": "ipython",
    "version": 3
   },
   "file_extension": ".py",
   "mimetype": "text/x-python",
   "name": "python",
   "nbconvert_exporter": "python",
   "pygments_lexer": "ipython3",
   "version": "3.12.5"
  }
 },
 "nbformat": 4,
 "nbformat_minor": 4
}
